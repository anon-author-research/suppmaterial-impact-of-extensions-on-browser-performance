{
 "cells": [
  {
   "attachments": {},
   "cell_type": "markdown",
   "id": "6c03f097",
   "metadata": {},
   "source": [
    "This script is to help procesing R script outputs from the console"
   ]
  },
  {
   "cell_type": "code",
   "execution_count": null,
   "id": "863427a2",
   "metadata": {},
   "outputs": [],
   "source": [
    "random = [\"base_Apk\", \"base_Draftkings\", \"base_Ereality\", \n",
    "          \"base_Espn\", \"base_Generic\", \"base_GitHub\", \"base_Jobsalert\" , \n",
    "          \"base_Lichess\", \"base_News\", \"base_Oktool\", \"base_Shadowpay\" , \n",
    "          \"base_Shoppingjp\", \"base_Tricky\", \"base_Video_twitch\", \"base_Video_youtube\" ]\n",
    "    \n",
    "fix = [\"location\",\"user_activity\",\"website_content\", \"web_history\",\"personally_identifiable_information\",\n",
    "         \"authentication_information\",\n",
    "         \"personal_communications\", \"size\", \"users\", \"rate\"]\n",
    "\n",
    "mode = [\"isLogin\",\"isGrant\",\"isInactive\",\"isFullyInactive\"]\n",
    "\n",
    "dv = [\"time\",\"loading\", \"static\"]\n",
    "\n",
    "fixedAll = fix+mode\n",
    "\n",
    "one = []\n",
    "two = []\n",
    "for r in random:\n",
    "    for i in range(10):\n",
    "        b = r + str(i)\n",
    "        one.append(f\"(1|{b})\")\n",
    "        for fm in range(len(fixedAll)):\n",
    "            two.append(f\"(1 + {fixedAll[fm]}|{b})\")"
   ]
  },
  {
   "attachments": {},
   "cell_type": "markdown",
   "id": "28bf4c5a",
   "metadata": {},
   "source": [
    "# 1st step: select converged factors for (1|random)"
   ]
  },
  {
   "cell_type": "code",
   "execution_count": null,
   "id": "97b7768f",
   "metadata": {},
   "outputs": [],
   "source": [
    "anova = \"anova(\"\n",
    "for on in range(len(one)):\n",
    "    # need to evaluate time, loading, and static, respectively.\n",
    "    print(f\"m{on}=lmer(data=ext, formula=time~1+{one[on]}, control=lmerControl(optimizer='bobyqa'))\")\n",
    "    # print(f\"m{on}=lmer(data=ext, formula=loading~1+{one[on]}, control=lmerControl(optimizer='bobyqa'))\")\n",
    "    # print(f\"m{on}=lmer(data=ext, formula=static~1+{one[on]}, control=lmerControl(optimizer='bobyqa'))\")\n",
    "    anova+=f\"m{on},\"\n",
    "print(\"\\n\"+anova[0:-1]+\")\")\n",
    "# Copy the output from the console and paste it to the buildHelper in R"
   ]
  },
  {
   "cell_type": "code",
   "execution_count": null,
   "id": "b6034f90",
   "metadata": {},
   "outputs": [],
   "source": [
    "from tqdm import tqdm\n",
    "\n",
    "rout = open(\"/xxxxxxxx/ComboLog.txt\", \"r\").readlines()\n",
    "anova = 'anova('\n",
    "lines = [line.rstrip() for line in rout]\n",
    "\n",
    "del lines[0:3]\n",
    "del lines[-2:]\n",
    "for line in tqdm(lines, total=len(lines)):\n",
    "    if line.startswith('> m'):\n",
    "        if lines[lines.index(line)+1] == '':\n",
    "            anova += line.split(' ')[1].split('=')[0] + ', '\n",
    "print(anova[:-2]+')')\n",
    "# Same. Copy the output from the console and \n",
    "# paste it to the buildHelper2 in R"
   ]
  },
  {
   "attachments": {},
   "cell_type": "markdown",
   "id": "21cfb2b6",
   "metadata": {},
   "source": [
    "# 2nd step: select non-zero Chi"
   ]
  },
  {
   "cell_type": "code",
   "execution_count": null,
   "id": "423ef58d",
   "metadata": {},
   "outputs": [],
   "source": [
    "rout2 = open(\"/xxxxxxxx/ComboLog2.txt\", \"r\").readlines()\n",
    "ele = [ele for ele in rout2 if('AIC' in ele)][0]\n",
    "begi = rout2.index(ele)\n",
    "rout2 = rout2[begi:-2]\n",
    "print('      npar'+open(\"/xxxxxxxx/ComboLog2.txt\", \"r\").read().split(\"npar\")[1][:-20])\n",
    "\n",
    "factor = '+'\n",
    "nu = 0\n",
    "ave = 0\n",
    "for ele in rout2[2:]:\n",
    "    if float(ele.strip().split(' ')[-3]) >0:\n",
    "        ave += float(ele.strip().split(' ')[-3])\n",
    "        print(ele.strip().split(' ')[0],  ele.strip().split(' ')[-3])\n",
    "        if float(ele.strip().split(' ')[-3]) > 0:\n",
    "            nu +=1\n",
    "            factor += one[int(ele.strip().split(' ')[0].split('m')[1])] + '+'\n",
    "print(nu)\n",
    "print(ave/nu)\n",
    "factor.replace(\" \", \"\")\n",
    "# Copy the output from the console and \n",
    "# paste it to the builder in R"
   ]
  },
  {
   "attachments": {},
   "cell_type": "markdown",
   "id": "bd5c6169",
   "metadata": {},
   "source": [
    "# 3rd step: select converged factors for (random1|random2)"
   ]
  },
  {
   "cell_type": "code",
   "execution_count": null,
   "id": "61989fad",
   "metadata": {},
   "outputs": [],
   "source": [
    "anova = \"anova(\"\n",
    "rm = \"\"\n",
    "for on in range(len(two)):\n",
    "    # need to evaluate time, loading, and static, respectively.\n",
    "    # print(f\"m{on}=lmer(data=ext, formula=loading~1+{two[on]}, control=lmerControl(optimizer='bobyqa'))\")\n",
    "    print(f\"m{on}=lmer(data=ext, formula=time~1+{two[on]}, control=lmerControl(optimizer='bobyqa'))\")\n",
    "    # print(f\"m{on}=lmer(data=ext, formula=static~1+{two[on]}, control=lmerControl(optimizer='bobyqa'))\")\n",
    "    anova+=f\"m{on},\"\n",
    "    rm += f'm{on},'\n",
    "print(\"\\n\"+anova[0:-1]+\")\")\n",
    "# Copy the output from the console and paste it to the buildHelper in R"
   ]
  },
  {
   "cell_type": "code",
   "execution_count": null,
   "id": "9739b924",
   "metadata": {},
   "outputs": [],
   "source": [
    "from tqdm import tqdm\n",
    "\n",
    "rout = open(\"/xxxxxxxx/ComboLog.txt\", \"r\").readlines()\n",
    "anova = 'anova('\n",
    "lines = [line.rstrip() for line in rout]\n",
    "\n",
    "del lines[0:3]\n",
    "del lines[-2:]\n",
    "for line in tqdm(lines, total=len(lines)):\n",
    "    if line.startswith('> m'):\n",
    "        if lines[lines.index(line)+1] == '':\n",
    "            anova += line.split(' ')[1].split('=')[0] + ', '\n",
    "print(anova[:-2]+')')\n",
    "# Same. Copy the output from the console and \n",
    "# paste it to the buildHelper2 in R"
   ]
  },
  {
   "attachments": {},
   "cell_type": "markdown",
   "id": "596e763a",
   "metadata": {},
   "source": [
    "# 4th step: select non-zero Chi"
   ]
  },
  {
   "cell_type": "code",
   "execution_count": null,
   "id": "b5daaba7",
   "metadata": {},
   "outputs": [],
   "source": [
    "rout2 = open(\"/xxxxxxxx/ComboLog2.txt\", \"r\").readlines()\n",
    "ele = [ele for ele in rout2 if('AIC' in ele)][0]\n",
    "begi = rout2.index(ele)\n",
    "rout2 = rout2[begi:-2]\n",
    "print('      npar'+open(\"/xxxxxxxx/ComboLog2.txt\", \"r\").read().split(\"npar\")[1][:-20])\n",
    "\n",
    "factor = '+'\n",
    "nu = 0\n",
    "ave = 0\n",
    "for ele in rout2[2:]:\n",
    "    if float(ele.strip().split(' ')[-3]) >0:\n",
    "        ave += float(ele.strip().split(' ')[-3])\n",
    "        print(ele.strip().split(' ')[0],  ele.strip().split(' ')[-3])\n",
    "        if float(ele.strip().split(' ')[-3]) > 0:\n",
    "            nu +=1\n",
    "            factor += two[int(ele.strip().split(' ')[0].split('m')[1])] + '+'\n",
    "print(nu)\n",
    "print(ave/nu)\n",
    "factor.replace(\" \", \"\")\n",
    "# Copy the output from the console and \n",
    "# paste it to the builder in R"
   ]
  }
 ],
 "metadata": {
  "language_info": {
   "name": "python"
  }
 },
 "nbformat": 4,
 "nbformat_minor": 5
}
